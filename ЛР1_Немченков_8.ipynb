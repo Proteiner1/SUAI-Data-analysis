{
 "cells": [
  {
   "cell_type": "markdown",
   "metadata": {
    "id": "bri_pAriNFqN"
   },
   "source": [
    "**Цель работы:**\n",
    "\n",
    "Осуществить предварительную обработку данных csv-файла, выявить и устранить проблемы в этих данных."
   ]
  },
  {
   "cell_type": "markdown",
   "metadata": {
    "id": "r_e-GeJmgZ8l"
   },
   "source": [
    "# Загрузка набора данных"
   ]
  },
  {
   "cell_type": "markdown",
   "metadata": {
    "id": "eeq9ZAbSguQS"
   },
   "source": [
    "### Описание предметной области"
   ]
  },
  {
   "cell_type": "markdown",
   "metadata": {
    "id": "XHbH8zNIg0Ib"
   },
   "source": [
    "Вариант №8\n",
    "\n",
    "Набор данных: credit_risk.csv\n",
    "\n",
    "Атрибуты:\n",
    "\n",
    "Id — идентификатор заявки\n",
    "Age — возраст заемщика\n",
    "Income — годовой доход заемщика\n",
    "Home — тип жилья \n",
    "Emp_length — стаж работы \n",
    "Intent — цель кредита\n",
    "Amount — запрашиваемая сумма кредита\n",
    "Rate — процентная ставка по кредиту\n",
    "Status — статус одобрения кредита \n",
    "Percent_income — отношение суммы кредита к годовому доходу\n",
    "Default — наличие дефолта в прошлом \n",
    "Cred_length — длина кредитной истории "
   ]
  },
  {
   "cell_type": "markdown",
   "metadata": {
    "id": "Lwin9ia7hT1i"
   },
   "source": [
    "### 1.Чтение файла (набора данных)"
   ]
  },
  {
   "cell_type": "code",
   "execution_count": 1,
   "metadata": {
    "id": "a5dYQO5YhOYa"
   },
   "outputs": [],
   "source": [
    "# импорт библиотек, чтение файла с помощью pandas\n",
    "import pandas as pd\n",
    "import numpy as np \n",
    "df = pd.read_csv('credit_risk.csv', sep=',')"
   ]
  },
  {
   "cell_type": "markdown",
   "metadata": {
    "id": "p82p53SvhjLN"
   },
   "source": [
    "### 2. Обзор данных"
   ]
  },
  {
   "cell_type": "markdown",
   "metadata": {
    "id": "eAYzXaLrh-qh"
   },
   "source": [
    "2.1 Вывод первых 20 строк с помощью метода head."
   ]
  },
  {
   "cell_type": "code",
   "execution_count": 2,
   "metadata": {
    "id": "7yMo3VZ_hotx"
   },
   "outputs": [
    {
     "data": {
      "text/html": [
       "<div>\n",
       "<style scoped>\n",
       "    .dataframe tbody tr th:only-of-type {\n",
       "        vertical-align: middle;\n",
       "    }\n",
       "\n",
       "    .dataframe tbody tr th {\n",
       "        vertical-align: top;\n",
       "    }\n",
       "\n",
       "    .dataframe thead th {\n",
       "        text-align: right;\n",
       "    }\n",
       "</style>\n",
       "<table border=\"1\" class=\"dataframe\">\n",
       "  <thead>\n",
       "    <tr style=\"text-align: right;\">\n",
       "      <th></th>\n",
       "      <th>Id</th>\n",
       "      <th>Age</th>\n",
       "      <th>Income</th>\n",
       "      <th>Home</th>\n",
       "      <th>Emp_length</th>\n",
       "      <th>Intent</th>\n",
       "      <th>Amount</th>\n",
       "      <th>Rate</th>\n",
       "      <th>Status</th>\n",
       "      <th>Percent_income</th>\n",
       "      <th>Default</th>\n",
       "      <th>Cred_length</th>\n",
       "    </tr>\n",
       "  </thead>\n",
       "  <tbody>\n",
       "    <tr>\n",
       "      <th>0</th>\n",
       "      <td>0</td>\n",
       "      <td>22.0</td>\n",
       "      <td>59000</td>\n",
       "      <td>RENT</td>\n",
       "      <td>123.0</td>\n",
       "      <td>PERSONAL</td>\n",
       "      <td>35000</td>\n",
       "      <td>16.02</td>\n",
       "      <td>1</td>\n",
       "      <td>0.59</td>\n",
       "      <td>Y</td>\n",
       "      <td>3</td>\n",
       "    </tr>\n",
       "    <tr>\n",
       "      <th>1</th>\n",
       "      <td>1</td>\n",
       "      <td>21.0</td>\n",
       "      <td>9600</td>\n",
       "      <td>OWN</td>\n",
       "      <td>5.0</td>\n",
       "      <td>EDUCATION</td>\n",
       "      <td>1000</td>\n",
       "      <td>11.14</td>\n",
       "      <td>0</td>\n",
       "      <td>0.10</td>\n",
       "      <td>N</td>\n",
       "      <td>2</td>\n",
       "    </tr>\n",
       "    <tr>\n",
       "      <th>2</th>\n",
       "      <td>2</td>\n",
       "      <td>25.0</td>\n",
       "      <td>9600</td>\n",
       "      <td>MORTGAGE</td>\n",
       "      <td>1.0</td>\n",
       "      <td>MEDICAL</td>\n",
       "      <td>5500</td>\n",
       "      <td>12.87</td>\n",
       "      <td>1</td>\n",
       "      <td>0.57</td>\n",
       "      <td>N</td>\n",
       "      <td>3</td>\n",
       "    </tr>\n",
       "    <tr>\n",
       "      <th>3</th>\n",
       "      <td>3</td>\n",
       "      <td>23.0</td>\n",
       "      <td>65500</td>\n",
       "      <td>RENT</td>\n",
       "      <td>4.0</td>\n",
       "      <td>MEDICAL</td>\n",
       "      <td>35000</td>\n",
       "      <td>15.23</td>\n",
       "      <td>1</td>\n",
       "      <td>0.53</td>\n",
       "      <td>N</td>\n",
       "      <td>2</td>\n",
       "    </tr>\n",
       "    <tr>\n",
       "      <th>4</th>\n",
       "      <td>4</td>\n",
       "      <td>24.0</td>\n",
       "      <td>54400</td>\n",
       "      <td>RENT</td>\n",
       "      <td>8.0</td>\n",
       "      <td>MEDICAL</td>\n",
       "      <td>35000</td>\n",
       "      <td>14.27</td>\n",
       "      <td>1</td>\n",
       "      <td>0.55</td>\n",
       "      <td>Y</td>\n",
       "      <td>4</td>\n",
       "    </tr>\n",
       "    <tr>\n",
       "      <th>5</th>\n",
       "      <td>5</td>\n",
       "      <td>21.0</td>\n",
       "      <td>9900</td>\n",
       "      <td>OWN</td>\n",
       "      <td>2.0</td>\n",
       "      <td>VENTURE</td>\n",
       "      <td>2500</td>\n",
       "      <td>7.14</td>\n",
       "      <td>1</td>\n",
       "      <td>0.25</td>\n",
       "      <td>N</td>\n",
       "      <td>2</td>\n",
       "    </tr>\n",
       "    <tr>\n",
       "      <th>6</th>\n",
       "      <td>6</td>\n",
       "      <td>26.0</td>\n",
       "      <td>77100</td>\n",
       "      <td>RENET</td>\n",
       "      <td>8.0</td>\n",
       "      <td>EDUCATION</td>\n",
       "      <td>35000</td>\n",
       "      <td>12.42</td>\n",
       "      <td>1</td>\n",
       "      <td>0.45</td>\n",
       "      <td>N</td>\n",
       "      <td>3</td>\n",
       "    </tr>\n",
       "    <tr>\n",
       "      <th>7</th>\n",
       "      <td>7</td>\n",
       "      <td>24.0</td>\n",
       "      <td>78956</td>\n",
       "      <td>RENT</td>\n",
       "      <td>5.0</td>\n",
       "      <td>MEDICAL</td>\n",
       "      <td>35000</td>\n",
       "      <td>11.11</td>\n",
       "      <td>1</td>\n",
       "      <td>0.44</td>\n",
       "      <td>N</td>\n",
       "      <td>4</td>\n",
       "    </tr>\n",
       "    <tr>\n",
       "      <th>8</th>\n",
       "      <td>8</td>\n",
       "      <td>24.0</td>\n",
       "      <td>83000</td>\n",
       "      <td>RENT</td>\n",
       "      <td>8.0</td>\n",
       "      <td>PERSONAL</td>\n",
       "      <td>35000</td>\n",
       "      <td>8.90</td>\n",
       "      <td>1</td>\n",
       "      <td>0.42</td>\n",
       "      <td>N</td>\n",
       "      <td>2</td>\n",
       "    </tr>\n",
       "    <tr>\n",
       "      <th>9</th>\n",
       "      <td>9</td>\n",
       "      <td>21.0</td>\n",
       "      <td>10000</td>\n",
       "      <td>OWN</td>\n",
       "      <td>6.0</td>\n",
       "      <td>VENTURE</td>\n",
       "      <td>1600</td>\n",
       "      <td>14.74</td>\n",
       "      <td>1</td>\n",
       "      <td>0.16</td>\n",
       "      <td>N</td>\n",
       "      <td>3</td>\n",
       "    </tr>\n",
       "    <tr>\n",
       "      <th>10</th>\n",
       "      <td>10</td>\n",
       "      <td>22.0</td>\n",
       "      <td>85000</td>\n",
       "      <td>RENT</td>\n",
       "      <td>6.0</td>\n",
       "      <td>VENTURE</td>\n",
       "      <td>35000</td>\n",
       "      <td>10.37</td>\n",
       "      <td>1</td>\n",
       "      <td>0.41</td>\n",
       "      <td>N</td>\n",
       "      <td>4</td>\n",
       "    </tr>\n",
       "    <tr>\n",
       "      <th>11</th>\n",
       "      <td>11</td>\n",
       "      <td>21.0</td>\n",
       "      <td>10000</td>\n",
       "      <td>OWN</td>\n",
       "      <td>2.0</td>\n",
       "      <td>HOMEIMPROVEMENT</td>\n",
       "      <td>4500</td>\n",
       "      <td>8.63</td>\n",
       "      <td>1</td>\n",
       "      <td>0.45</td>\n",
       "      <td>N</td>\n",
       "      <td>2</td>\n",
       "    </tr>\n",
       "    <tr>\n",
       "      <th>12</th>\n",
       "      <td>12</td>\n",
       "      <td>23.0</td>\n",
       "      <td>95000</td>\n",
       "      <td>RENT</td>\n",
       "      <td>2.0</td>\n",
       "      <td>VENTURE</td>\n",
       "      <td>35000</td>\n",
       "      <td>7.90</td>\n",
       "      <td>1</td>\n",
       "      <td>0.37</td>\n",
       "      <td>N</td>\n",
       "      <td>2</td>\n",
       "    </tr>\n",
       "    <tr>\n",
       "      <th>13</th>\n",
       "      <td>13</td>\n",
       "      <td>26.0</td>\n",
       "      <td>108160</td>\n",
       "      <td>RENT</td>\n",
       "      <td>4.0</td>\n",
       "      <td>EDUCATION</td>\n",
       "      <td>35000</td>\n",
       "      <td>18.39</td>\n",
       "      <td>1</td>\n",
       "      <td>0.32</td>\n",
       "      <td>N</td>\n",
       "      <td>4</td>\n",
       "    </tr>\n",
       "    <tr>\n",
       "      <th>14</th>\n",
       "      <td>14</td>\n",
       "      <td>23.0</td>\n",
       "      <td>115000</td>\n",
       "      <td>RENT</td>\n",
       "      <td>2.0</td>\n",
       "      <td>EDUCATION</td>\n",
       "      <td>35000</td>\n",
       "      <td>7.90</td>\n",
       "      <td>0</td>\n",
       "      <td>0.30</td>\n",
       "      <td>N</td>\n",
       "      <td>4</td>\n",
       "    </tr>\n",
       "    <tr>\n",
       "      <th>15</th>\n",
       "      <td>15</td>\n",
       "      <td>23.0</td>\n",
       "      <td>500000</td>\n",
       "      <td>MORTGAGE</td>\n",
       "      <td>7.0</td>\n",
       "      <td>DEBTCONSOLIDATION</td>\n",
       "      <td>30000</td>\n",
       "      <td>10.65</td>\n",
       "      <td>0</td>\n",
       "      <td>0.06</td>\n",
       "      <td>N</td>\n",
       "      <td>3</td>\n",
       "    </tr>\n",
       "    <tr>\n",
       "      <th>16</th>\n",
       "      <td>16</td>\n",
       "      <td>23.0</td>\n",
       "      <td>120000</td>\n",
       "      <td>RENT</td>\n",
       "      <td>0.0</td>\n",
       "      <td>EDUCATION</td>\n",
       "      <td>35000</td>\n",
       "      <td>7.90</td>\n",
       "      <td>0</td>\n",
       "      <td>0.29</td>\n",
       "      <td>N</td>\n",
       "      <td>4</td>\n",
       "    </tr>\n",
       "    <tr>\n",
       "      <th>17</th>\n",
       "      <td>17</td>\n",
       "      <td>23.0</td>\n",
       "      <td>92111</td>\n",
       "      <td>RENT</td>\n",
       "      <td>7.0</td>\n",
       "      <td>MEDICAL</td>\n",
       "      <td>35000</td>\n",
       "      <td>20.25</td>\n",
       "      <td>1</td>\n",
       "      <td>0.32</td>\n",
       "      <td>N</td>\n",
       "      <td>4</td>\n",
       "    </tr>\n",
       "    <tr>\n",
       "      <th>18</th>\n",
       "      <td>18</td>\n",
       "      <td>23.0</td>\n",
       "      <td>113000</td>\n",
       "      <td>RENT</td>\n",
       "      <td>8.0</td>\n",
       "      <td>DEBTCONSOLIDATION</td>\n",
       "      <td>35000</td>\n",
       "      <td>18.25</td>\n",
       "      <td>1</td>\n",
       "      <td>0.31</td>\n",
       "      <td>N</td>\n",
       "      <td>4</td>\n",
       "    </tr>\n",
       "    <tr>\n",
       "      <th>19</th>\n",
       "      <td>19</td>\n",
       "      <td>24.0</td>\n",
       "      <td>10800</td>\n",
       "      <td>MORTGAGE</td>\n",
       "      <td>8.0</td>\n",
       "      <td>EDUCATION</td>\n",
       "      <td>1750</td>\n",
       "      <td>10.99</td>\n",
       "      <td>1</td>\n",
       "      <td>0.16</td>\n",
       "      <td>N</td>\n",
       "      <td>2</td>\n",
       "    </tr>\n",
       "  </tbody>\n",
       "</table>\n",
       "</div>"
      ],
      "text/plain": [
       "    Id   Age  Income      Home  Emp_length             Intent  Amount   Rate  \\\n",
       "0    0  22.0   59000      RENT       123.0           PERSONAL   35000  16.02   \n",
       "1    1  21.0    9600       OWN         5.0          EDUCATION    1000  11.14   \n",
       "2    2  25.0    9600  MORTGAGE         1.0            MEDICAL    5500  12.87   \n",
       "3    3  23.0   65500      RENT         4.0            MEDICAL   35000  15.23   \n",
       "4    4  24.0   54400      RENT         8.0            MEDICAL   35000  14.27   \n",
       "5    5  21.0    9900       OWN         2.0            VENTURE    2500   7.14   \n",
       "6    6  26.0   77100     RENET         8.0          EDUCATION   35000  12.42   \n",
       "7    7  24.0   78956      RENT         5.0            MEDICAL   35000  11.11   \n",
       "8    8  24.0   83000      RENT         8.0           PERSONAL   35000   8.90   \n",
       "9    9  21.0   10000       OWN         6.0            VENTURE    1600  14.74   \n",
       "10  10  22.0   85000      RENT         6.0            VENTURE   35000  10.37   \n",
       "11  11  21.0   10000       OWN         2.0    HOMEIMPROVEMENT    4500   8.63   \n",
       "12  12  23.0   95000      RENT         2.0            VENTURE   35000   7.90   \n",
       "13  13  26.0  108160      RENT         4.0          EDUCATION   35000  18.39   \n",
       "14  14  23.0  115000      RENT         2.0          EDUCATION   35000   7.90   \n",
       "15  15  23.0  500000  MORTGAGE         7.0  DEBTCONSOLIDATION   30000  10.65   \n",
       "16  16  23.0  120000      RENT         0.0          EDUCATION   35000   7.90   \n",
       "17  17  23.0   92111      RENT         7.0            MEDICAL   35000  20.25   \n",
       "18  18  23.0  113000      RENT         8.0  DEBTCONSOLIDATION   35000  18.25   \n",
       "19  19  24.0   10800  MORTGAGE         8.0          EDUCATION    1750  10.99   \n",
       "\n",
       "    Status  Percent_income Default  Cred_length  \n",
       "0        1            0.59       Y            3  \n",
       "1        0            0.10       N            2  \n",
       "2        1            0.57       N            3  \n",
       "3        1            0.53       N            2  \n",
       "4        1            0.55       Y            4  \n",
       "5        1            0.25       N            2  \n",
       "6        1            0.45       N            3  \n",
       "7        1            0.44       N            4  \n",
       "8        1            0.42       N            2  \n",
       "9        1            0.16       N            3  \n",
       "10       1            0.41       N            4  \n",
       "11       1            0.45       N            2  \n",
       "12       1            0.37       N            2  \n",
       "13       1            0.32       N            4  \n",
       "14       0            0.30       N            4  \n",
       "15       0            0.06       N            3  \n",
       "16       0            0.29       N            4  \n",
       "17       1            0.32       N            4  \n",
       "18       1            0.31       N            4  \n",
       "19       1            0.16       N            2  "
      ]
     },
     "execution_count": 2,
     "metadata": {},
     "output_type": "execute_result"
    }
   ],
   "source": [
    "# применить метод head\n",
    "df.head(20)"
   ]
  },
  {
   "cell_type": "markdown",
   "metadata": {
    "id": "Ze-lXxLMhpWv"
   },
   "source": [
    "2.2 Оценка данных с помощью метода info."
   ]
  },
  {
   "cell_type": "code",
   "execution_count": 3,
   "metadata": {
    "id": "bjhngmaLiGM-"
   },
   "outputs": [
    {
     "name": "stdout",
     "output_type": "stream",
     "text": [
      "<class 'pandas.core.frame.DataFrame'>\n",
      "RangeIndex: 652 entries, 0 to 651\n",
      "Data columns (total 12 columns):\n",
      " #   Column          Non-Null Count  Dtype  \n",
      "---  ------          --------------  -----  \n",
      " 0   Id              652 non-null    int64  \n",
      " 1   Age             652 non-null    float64\n",
      " 2   Income          652 non-null    int64  \n",
      " 3   Home            652 non-null    object \n",
      " 4   Emp_length      643 non-null    float64\n",
      " 5   Intent          652 non-null    object \n",
      " 6   Amount          652 non-null    int64  \n",
      " 7   Rate            586 non-null    float64\n",
      " 8   Status          652 non-null    int64  \n",
      " 9   Percent_income  652 non-null    float64\n",
      " 10  Default         652 non-null    object \n",
      " 11  Cred_length     652 non-null    int64  \n",
      "dtypes: float64(4), int64(5), object(3)\n",
      "memory usage: 61.3+ KB\n"
     ]
    }
   ],
   "source": [
    "# выполнит метод info\n",
    "df.info()"
   ]
  },
  {
   "cell_type": "markdown",
   "metadata": {
    "id": "06PDq9DAiMAY"
   },
   "source": [
    "2.3 Оценка данных с помощью метода describe."
   ]
  },
  {
   "cell_type": "code",
   "execution_count": 4,
   "metadata": {
    "id": "cTVFwzO1jQfN"
   },
   "outputs": [
    {
     "data": {
      "text/html": [
       "<div>\n",
       "<style scoped>\n",
       "    .dataframe tbody tr th:only-of-type {\n",
       "        vertical-align: middle;\n",
       "    }\n",
       "\n",
       "    .dataframe tbody tr th {\n",
       "        vertical-align: top;\n",
       "    }\n",
       "\n",
       "    .dataframe thead th {\n",
       "        text-align: right;\n",
       "    }\n",
       "</style>\n",
       "<table border=\"1\" class=\"dataframe\">\n",
       "  <thead>\n",
       "    <tr style=\"text-align: right;\">\n",
       "      <th></th>\n",
       "      <th>Id</th>\n",
       "      <th>Age</th>\n",
       "      <th>Income</th>\n",
       "      <th>Emp_length</th>\n",
       "      <th>Amount</th>\n",
       "      <th>Rate</th>\n",
       "      <th>Status</th>\n",
       "      <th>Percent_income</th>\n",
       "      <th>Cred_length</th>\n",
       "    </tr>\n",
       "  </thead>\n",
       "  <tbody>\n",
       "    <tr>\n",
       "      <th>count</th>\n",
       "      <td>652.000000</td>\n",
       "      <td>652.000000</td>\n",
       "      <td>652.000000</td>\n",
       "      <td>643.000000</td>\n",
       "      <td>652.000000</td>\n",
       "      <td>586.000000</td>\n",
       "      <td>652.000000</td>\n",
       "      <td>652.000000</td>\n",
       "      <td>652.000000</td>\n",
       "    </tr>\n",
       "    <tr>\n",
       "      <th>mean</th>\n",
       "      <td>325.495399</td>\n",
       "      <td>24.285276</td>\n",
       "      <td>90008.855828</td>\n",
       "      <td>4.601866</td>\n",
       "      <td>18800.996933</td>\n",
       "      <td>12.289471</td>\n",
       "      <td>0.601227</td>\n",
       "      <td>0.279831</td>\n",
       "      <td>3.012270</td>\n",
       "    </tr>\n",
       "    <tr>\n",
       "      <th>std</th>\n",
       "      <td>188.352535</td>\n",
       "      <td>7.841061</td>\n",
       "      <td>69530.312525</td>\n",
       "      <td>7.281616</td>\n",
       "      <td>9152.896250</td>\n",
       "      <td>3.272772</td>\n",
       "      <td>0.490022</td>\n",
       "      <td>0.150231</td>\n",
       "      <td>0.808843</td>\n",
       "    </tr>\n",
       "    <tr>\n",
       "      <th>min</th>\n",
       "      <td>0.000000</td>\n",
       "      <td>21.000000</td>\n",
       "      <td>9600.000000</td>\n",
       "      <td>0.000000</td>\n",
       "      <td>1000.000000</td>\n",
       "      <td>5.420000</td>\n",
       "      <td>0.000000</td>\n",
       "      <td>0.010000</td>\n",
       "      <td>2.000000</td>\n",
       "    </tr>\n",
       "    <tr>\n",
       "      <th>25%</th>\n",
       "      <td>162.750000</td>\n",
       "      <td>23.000000</td>\n",
       "      <td>44000.000000</td>\n",
       "      <td>2.000000</td>\n",
       "      <td>10000.000000</td>\n",
       "      <td>10.250000</td>\n",
       "      <td>0.000000</td>\n",
       "      <td>0.160000</td>\n",
       "      <td>2.000000</td>\n",
       "    </tr>\n",
       "    <tr>\n",
       "      <th>50%</th>\n",
       "      <td>325.500000</td>\n",
       "      <td>24.000000</td>\n",
       "      <td>69998.000000</td>\n",
       "      <td>4.000000</td>\n",
       "      <td>21850.000000</td>\n",
       "      <td>12.180000</td>\n",
       "      <td>1.000000</td>\n",
       "      <td>0.280000</td>\n",
       "      <td>3.000000</td>\n",
       "    </tr>\n",
       "    <tr>\n",
       "      <th>75%</th>\n",
       "      <td>488.250000</td>\n",
       "      <td>25.000000</td>\n",
       "      <td>128499.000000</td>\n",
       "      <td>7.000000</td>\n",
       "      <td>25000.000000</td>\n",
       "      <td>14.720000</td>\n",
       "      <td>1.000000</td>\n",
       "      <td>0.380000</td>\n",
       "      <td>4.000000</td>\n",
       "    </tr>\n",
       "    <tr>\n",
       "      <th>max</th>\n",
       "      <td>649.000000</td>\n",
       "      <td>144.000000</td>\n",
       "      <td>500000.000000</td>\n",
       "      <td>123.000000</td>\n",
       "      <td>35000.000000</td>\n",
       "      <td>21.210000</td>\n",
       "      <td>1.000000</td>\n",
       "      <td>0.830000</td>\n",
       "      <td>4.000000</td>\n",
       "    </tr>\n",
       "  </tbody>\n",
       "</table>\n",
       "</div>"
      ],
      "text/plain": [
       "               Id         Age         Income  Emp_length        Amount  \\\n",
       "count  652.000000  652.000000     652.000000  643.000000    652.000000   \n",
       "mean   325.495399   24.285276   90008.855828    4.601866  18800.996933   \n",
       "std    188.352535    7.841061   69530.312525    7.281616   9152.896250   \n",
       "min      0.000000   21.000000    9600.000000    0.000000   1000.000000   \n",
       "25%    162.750000   23.000000   44000.000000    2.000000  10000.000000   \n",
       "50%    325.500000   24.000000   69998.000000    4.000000  21850.000000   \n",
       "75%    488.250000   25.000000  128499.000000    7.000000  25000.000000   \n",
       "max    649.000000  144.000000  500000.000000  123.000000  35000.000000   \n",
       "\n",
       "             Rate      Status  Percent_income  Cred_length  \n",
       "count  586.000000  652.000000      652.000000   652.000000  \n",
       "mean    12.289471    0.601227        0.279831     3.012270  \n",
       "std      3.272772    0.490022        0.150231     0.808843  \n",
       "min      5.420000    0.000000        0.010000     2.000000  \n",
       "25%     10.250000    0.000000        0.160000     2.000000  \n",
       "50%     12.180000    1.000000        0.280000     3.000000  \n",
       "75%     14.720000    1.000000        0.380000     4.000000  \n",
       "max     21.210000    1.000000        0.830000     4.000000  "
      ]
     },
     "execution_count": 4,
     "metadata": {},
     "output_type": "execute_result"
    }
   ],
   "source": [
    "# оцените числовые столбцы с помощью describe\n",
    "df.describe()"
   ]
  },
  {
   "cell_type": "markdown",
   "metadata": {
    "id": "oOZUrZGuiGqc"
   },
   "source": [
    "\n",
    "---\n",
    "\n",
    "**Сделать выводы. Вы должны понимать, что означает тот или иной столбец, чтобы\n",
    " ответить на вопросы на защите.**\n",
    "\n",
    "\n",
    " ---\n",
    "\n",
    "**Промежуточный вывод о данных** \n",
    "\n",
    "\n",
    "Можно сделать промежуточный вывод о данных: данные содержат 652 записей о кредитных заявках с 11 признаками, включая уникальный идентификатор, возраст, доход, статус домовладения, стаж работы в годах, цель кредита, сумма кредита по заявке, процентная ставка, ,статус одобрения кредита, сумма кредита в процентах от дохода, не допустил ли заявитель ранее дефолта по кредиту, длина кредитной истории заявителя\n",
    "Типы данных:\n",
    "Числовые: ID, Age, Income, Emp_length, Amount, Rate, Status, Percent_income, Cred_length.\n",
    "Категориальные: Home, Intent, Default.\n",
    "Пропуски: Emp_length — 9 пропущенных значений, Rate — 66\n"
   ]
  },
  {
   "cell_type": "markdown",
   "metadata": {
    "id": "JTbo0IGDiHxn"
   },
   "source": [
    " 2.4 Оценка названий столбцов"
   ]
  },
  {
   "cell_type": "code",
   "execution_count": 5,
   "metadata": {
    "id": "9NEyi2Odik3e"
   },
   "outputs": [
    {
     "data": {
      "text/plain": [
       "Index(['Id', 'Age', 'Income', 'Home', 'Emp_length', 'Intent', 'Amount', 'Rate',\n",
       "       'Status', 'Percent_income', 'Default', 'Cred_length'],\n",
       "      dtype='object')"
      ]
     },
     "execution_count": 5,
     "metadata": {},
     "output_type": "execute_result"
    }
   ],
   "source": [
    "# Вывести на экран названия столбцов с помощью df.columns. Выявить проблемы с названиями, если они есть. При необходимости переименовать столбцы. Если проблемы не обнаружены также дать пояснения.\n",
    "\n",
    "df.columns"
   ]
  },
  {
   "cell_type": "code",
   "execution_count": 6,
   "metadata": {
    "id": "QSJBLl4qjjP8"
   },
   "outputs": [],
   "source": [
    "# переименование при необходимости"
   ]
  },
  {
   "cell_type": "markdown",
   "metadata": {
    "id": "V0tLQcyrjnA_"
   },
   "source": [
    "### 3. Проверка пропусков"
   ]
  },
  {
   "cell_type": "code",
   "execution_count": 7,
   "metadata": {
    "id": "xuTz-Avjj9AW"
   },
   "outputs": [
    {
     "name": "stdout",
     "output_type": "stream",
     "text": [
      "Проблем не обнаружено\n"
     ]
    }
   ],
   "source": [
    "# Проверить данные на наличие пропусков и устранить их, если они есть (пропуски необходимо либо удалить, либо заменить каким-то значением).\n",
    "\n",
    "# Проверка на наличие возможных проблем\n",
    "\n",
    "problems_found = []\n",
    "\n",
    "\n",
    "for col in df.columns:\n",
    "    if any(char in col for char in [' ', '.', '-', '/', '\\\\', '(', ')', '[', ']', '{', '}']):\n",
    "        problems_found.append(f\"Столбец '{col}' содержит специальные символы или пробелы\")\n",
    "\n",
    "for col in df.columns:\n",
    "    if col != col.strip():\n",
    "        problems_found.append(f\"Столбец '{col}' имеет пробелы в начале или конце\")\n",
    "        \n",
    "if problems_found:\n",
    "    print(\"Обнаружены проблемы в названиях столбцов:\")\n",
    "    for problem in problems_found:\n",
    "        print(f\"- {problem}\")\n",
    "else:\n",
    "    print(\"Проблем не обнаружено\")"
   ]
  },
  {
   "cell_type": "code",
   "execution_count": 8,
   "metadata": {},
   "outputs": [
    {
     "name": "stdout",
     "output_type": "stream",
     "text": [
      "Новые названия столбцов:\n",
      "['id', 'age', 'income', 'home_ownership', 'employment_length', 'loan_intent', 'loan_amount', 'interest_rate', 'loan_status', 'debt_to_income_ratio', 'has_defaulted', 'credit_history_length']\n"
     ]
    }
   ],
   "source": [
    "# Для удобства привел названия колонок к стандартному виду \n",
    "\n",
    "df.rename(columns={\n",
    "    'Id': 'id',\n",
    "    'Age': 'age',\n",
    "    'Income': 'income',\n",
    "    'Home': 'home_ownership',\n",
    "    'Emp_length': 'employment_length',\n",
    "    'Intent': 'loan_intent',\n",
    "    'Amount': 'loan_amount',\n",
    "    'Rate': 'interest_rate',\n",
    "    'Status': 'loan_status',\n",
    "    'Percent_income': 'debt_to_income_ratio',\n",
    "    'Default': 'has_defaulted',\n",
    "    'Cred_length': 'credit_history_length'\n",
    "}, inplace=True)\n",
    "\n",
    "print(\"Новые названия столбцов:\")\n",
    "print(df.columns.tolist())"
   ]
  },
  {
   "cell_type": "markdown",
   "metadata": {},
   "source": [
    "Заполнение пропусков наиболее подходящими данными "
   ]
  },
  {
   "cell_type": "code",
   "execution_count": 9,
   "metadata": {},
   "outputs": [
    {
     "name": "stdout",
     "output_type": "stream",
     "text": [
      "employment_length     9\n",
      "interest_rate        66\n",
      "dtype: int64\n",
      "Заполнено 9 пропусков в числовом столбце 'employment_length' медианой: 4.0\n",
      "Заполнено 66 пропусков в числовом столбце 'interest_rate' медианой: 12.18\n",
      "\n",
      "Все пропуски успешно обработаны!\n"
     ]
    }
   ],
   "source": [
    "# Проверить данные на наличие пропусков и устранить их\n",
    "import numpy as np\n",
    "\n",
    "# Проверка пропусков\n",
    "missing_data = df.isnull().sum()\n",
    "print(missing_data[missing_data > 0])\n",
    "\n",
    "if missing_data.any():\n",
    "    # Для числовых столбцов\n",
    "    numeric_cols = df.select_dtypes(include=[np.number]).columns\n",
    "    for col in numeric_cols:\n",
    "        if missing_data[col] > 0:\n",
    "            median_val = df[col].median()\n",
    "            df[col] = df[col].fillna(median_val)\n",
    "            print(f\"Заполнено {missing_data[col]} пропусков в числовом столбце '{col}' медианой: {median_val}\")\n",
    "    \n",
    "    # Для всех остальных столбцов\n",
    "    other_cols = df.columns.difference(numeric_cols)\n",
    "    for col in other_cols:\n",
    "        if missing_data[col] > 0:\n",
    "            # Для строковых/категориальных данных используем моду\n",
    "            if df[col].dtype == 'object':\n",
    "                mode_val = df[col].mode()[0] if not df[col].mode().empty else 'Unknown'\n",
    "                df[col] = df[col].fillna(mode_val)\n",
    "                print(f\"Заполнено {missing_data[col]} пропусков в столбце '{col}' модой: '{mode_val}'\")\n",
    "            \n",
    "    remaining_missing = df.isnull().sum().sum()\n",
    "    if remaining_missing == 0:\n",
    "        print(\"\\nВсе пропуски успешно обработаны!\")\n",
    "    else:\n",
    "        print(f\"\\nОсталось {remaining_missing} пропусков, требующих дополнительного анализа.\")\n",
    "        print(\"Столбцы с оставшимися пропусками:\")\n",
    "        print(df.isnull().sum()[df.isnull().sum() > 0])\n",
    "else:\n",
    "    print(\"Пропуски в данных отсутствуют.\")"
   ]
  },
  {
   "cell_type": "code",
   "execution_count": 10,
   "metadata": {},
   "outputs": [
    {
     "name": "stdout",
     "output_type": "stream",
     "text": [
      "Пропуски в данных:\n",
      "Series([], dtype: int64)\n"
     ]
    }
   ],
   "source": [
    "# Финально пропустим все пропуски\n",
    "\n",
    "missing_data = df.isnull().sum()\n",
    "print(\"Пропуски в данных:\")\n",
    "print(missing_data[missing_data > 0])"
   ]
  },
  {
   "cell_type": "markdown",
   "metadata": {
    "id": "efZ7vgSVkPQH"
   },
   "source": [
    "# Стратегии обработки пропущенных значений в данных\n",
    "\n",
    "### Выбранный подход к обработке пропусков:\n",
    "\n",
    "1. **Заполнение числовых признаков медианным значением**:\n",
    "   - **Обоснование**: Медиана менее чувствительна к экстремальным значениям по сравнению со средним\n",
    "   - **Преимущество**: Сохранение статистических характеристик распределения без влияния выбросов\n",
    "\n",
    "2. **Заполнение категориальных признаков наиболее частым значением**:\n",
    "   - **Обоснование**: Наиболее часто встречающееся значение репрезентативно для категориальных переменных\n",
    "   - **Преимущество**: Минимизация изменения исходного распределения категориальных данных\n",
    "\n",
    "### Альтернативные подходы к обработке\n",
    "\n",
    "1. **Удаление записей с пропущенными значениями**:\n",
    "   - **Ограничение**: Риск потери репрезентативности выборки\n",
    "   - **Применимость**: Только при незначительном количестве пропусков (<2%)\n",
    "\n",
    "2. **Использование алгоритмов предсказания**:\n",
    "   - **Методы**: Машинное обучение (регрессия, классификация)\n",
    "   - **Преимущество**: Повышенная точность восстановления значений\n",
    "   - **Недостаток**: Сложность реализации и риск создания смещенных оценок\n",
    "\n",
    "3. **Методы интерполяции для последовательных данных**:\n",
    "   - **Применимость**: Для данных с временной или пространственной структурой\n",
    "   - **Методы**: Линейная, сплайновая интерполяция\n",
    "\n",
    "4. **Создание отдельной категории для пропусков**:\n",
    "   - **Применимость**: Для номинативных переменных\n",
    "   - **Преимущество**: Сохранение информации о наличии пропусков как значимого признака"
   ]
  },
  {
   "cell_type": "markdown",
   "metadata": {
    "id": "kkyrXXHikEXk"
   },
   "source": [
    "### 4. Проверка дубликатов"
   ]
  },
  {
   "cell_type": "markdown",
   "metadata": {
    "id": "ImqHvr3okIQ6"
   },
   "source": [
    "#### Проверка явных дубликатов"
   ]
  },
  {
   "cell_type": "code",
   "execution_count": 11,
   "metadata": {
    "id": "qu1oh-e5lDZ1"
   },
   "outputs": [
    {
     "name": "stdout",
     "output_type": "stream",
     "text": [
      "Количество полных дубликатов в данных: 2\n"
     ]
    }
   ],
   "source": [
    "# Проверка на наличие явных дубликатов\n",
    "duplicates_count = df.duplicated().sum()\n",
    "print(f\"Количество полных дубликатов в данных: {duplicates_count}\")"
   ]
  },
  {
   "cell_type": "code",
   "execution_count": 12,
   "metadata": {
    "id": "ntArgvChkK26"
   },
   "outputs": [
    {
     "name": "stdout",
     "output_type": "stream",
     "text": [
      "Удалено 2 дубликатов.\n"
     ]
    }
   ],
   "source": [
    "# удалите дубликаты, если они есть\n",
    "if duplicates_count > 0:\n",
    "    df = df.drop_duplicates(keep='first')\n",
    "    print(f\"Удалено {duplicates_count} дубликатов.\")"
   ]
  },
  {
   "cell_type": "markdown",
   "metadata": {
    "id": "VeHTMcOmkLSw"
   },
   "source": [
    "#### Проверка неявных дубликатов"
   ]
  },
  {
   "cell_type": "code",
   "execution_count": 13,
   "metadata": {
    "id": "-uOPKHlVlGo8"
   },
   "outputs": [
    {
     "name": "stdout",
     "output_type": "stream",
     "text": [
      "Категориальные столбцы для проверки неявных дубликатов:\n",
      "['home_ownership', 'loan_intent', 'has_defaulted']\n",
      "\n",
      "=== Анализ столбца: home_ownership ===\n",
      "Уникальные значения и их частота:\n",
      "home_ownership\n",
      "RENT        413\n",
      "MORTGAGE    136\n",
      "OWN          98\n",
      "OTHER         2\n",
      "RENET         1\n",
      "Name: count, dtype: int64\n",
      "--------------------------------------------------\n",
      "\n",
      "=== Анализ столбца: loan_intent ===\n",
      "Уникальные значения и их частота:\n",
      "loan_intent\n",
      "EDUCATION            145\n",
      "VENTURE              117\n",
      "PERSONAL             111\n",
      "MEDICAL              107\n",
      "DEBTCONSOLIDATION    102\n",
      "HOMEIMPROVEMENT       68\n",
      "Name: count, dtype: int64\n",
      "--------------------------------------------------\n",
      "\n",
      "=== Анализ столбца: has_defaulted ===\n",
      "Уникальные значения и их частота:\n",
      "has_defaulted\n",
      "N     497\n",
      "Y     150\n",
      "No      3\n",
      "Name: count, dtype: int64\n",
      "--------------------------------------------------\n"
     ]
    }
   ],
   "source": [
    "# Находим все столбцы с типом object (категориальные)\n",
    "categorical_columns = df.select_dtypes(include=['object']).columns.tolist()\n",
    "\n",
    "print(\"Категориальные столбцы для проверки неявных дубликатов:\")\n",
    "print(categorical_columns)\n",
    "\n",
    "# Создаем словарь для хранения уникальных значений каждого категориального столбца\n",
    "unique_values = {}\n",
    "\n",
    "# Анализируем каждый категориальный столбец\n",
    "for column in categorical_columns:\n",
    "    print(f\"\\n=== Анализ столбца: {column} ===\")\n",
    "    print(\"Уникальные значения и их частота:\")\n",
    "    \n",
    "    # Получаем частоту каждого значения\n",
    "    value_counts = df[column].value_counts()\n",
    "    print(value_counts)\n",
    "    \n",
    "    # Сохраняем уникальные значения для дальнейшего анализа\n",
    "    unique_values[column] = value_counts.index.tolist()\n",
    "    \n",
    "    print(\"-\" * 50)"
   ]
  },
  {
   "cell_type": "code",
   "execution_count": 14,
   "metadata": {
    "id": "89tMFEQ2k_M7"
   },
   "outputs": [
    {
     "name": "stdout",
     "output_type": "stream",
     "text": [
      "Исправление неявных дубликатов в столбце home_ownership:\n",
      "Удалено 2 строк(и) со значением 'OTHER'\n",
      "Исправлена опечатка: 'RENET' → 'RENT'\n",
      "\n",
      "Обновленное распределение значений в home_ownership:\n",
      "home_ownership\n",
      "RENT        414\n",
      "MORTGAGE    136\n",
      "OWN          98\n",
      "Name: count, dtype: int64\n",
      "\n",
      "Исправление неявных дубликатов в столбце has_defaulted:\n",
      "Исправлена опечатка: 'No' → 'N'\n",
      "\n",
      "Обновленное распределение значений в has_defaulted:\n",
      "has_defaulted\n",
      "N    500\n",
      "Y    148\n",
      "Name: count, dtype: int64\n"
     ]
    }
   ],
   "source": [
    "# Создаем копию DataFrame для безопасного изменения\n",
    "df_clean = df.copy()\n",
    "\n",
    "# Исправление неявных дубликатов в столбце home_ownership\n",
    "print(\"Исправление неявных дубликатов в столбце home_ownership:\")\n",
    "\n",
    "# Удаляем строки со значением 'OTHER'\n",
    "df_clean = df_clean[df_clean['home_ownership'] != 'OTHER']\n",
    "print(f\"Удалено {2} строк(и) со значением 'OTHER'\")\n",
    "\n",
    "# Заменяем 'RENET' на 'RENT' с использованием .loc\n",
    "df_clean.loc[df_clean['home_ownership'] == 'RENET', 'home_ownership'] = 'RENT'\n",
    "print(\"Исправлена опечатка: 'RENET' → 'RENT'\")\n",
    "\n",
    "# Проверяем результат\n",
    "print(\"\\nОбновленное распределение значений в home_ownership:\")\n",
    "print(df_clean['home_ownership'].value_counts())\n",
    "\n",
    "# Исправление неявных дубликатов в столбце has_defaulted\n",
    "print(\"\\nИсправление неявных дубликатов в столбце has_defaulted:\")\n",
    "\n",
    "# Заменяем 'No' на 'N' с использованием .loc\n",
    "df_clean.loc[df_clean['has_defaulted'] == 'No', 'has_defaulted'] = 'N'\n",
    "print(\"Исправлена опечатка: 'No' → 'N'\")\n",
    "\n",
    "# Проверяем результат\n",
    "print(\"\\nОбновленное распределение значений в has_defaulted:\")\n",
    "print(df_clean['has_defaulted'].value_counts())\n",
    "\n",
    "# Теперь присваиваем очищенный DataFrame обратно в df\n",
    "df = df_clean"
   ]
  },
  {
   "cell_type": "markdown",
   "metadata": {
    "id": "GMcnDpOmlKhU"
   },
   "source": [
    "---\n",
    "\n",
    "**1. Выбор ключевых признаков:\n",
    "   - Код использует подмножество столбцов: `['age', 'income', 'employment_length', 'loan_amount', 'interest_rate', 'loan_status', 'debt_to_income_ratio', 'credit_history_length']`\n",
    "   - Эти поля выбраны как комбинация, которая с высокой вероятностью должна быть уникальной для каждого клиента\n",
    "2. Поиск дубликатов:\n",
    "   - Метод `df.duplicated(subset=subset_columns, keep=False)` находит все строки, где комбинация указанных столбцов совпадает\n",
    "   - Параметр `keep=False` помечает все дубликаты (а не только вторые и последующие вхождения)\n",
    "3. Анализ результатов:\n",
    "   - Подсчитывается количество неявных дубликатов\n",
    "   - При наличии дубликатов выводятся примеры для визуальной проверки\n",
    "\n",
    "- Записи не являются полными копиями (различаются в других столбцах)\n",
    "**\n",
    "\n",
    "\n",
    " ---"
   ]
  },
  {
   "cell_type": "code",
   "execution_count": 15,
   "metadata": {},
   "outputs": [
    {
     "data": {
      "text/html": [
       "<div>\n",
       "<style scoped>\n",
       "    .dataframe tbody tr th:only-of-type {\n",
       "        vertical-align: middle;\n",
       "    }\n",
       "\n",
       "    .dataframe tbody tr th {\n",
       "        vertical-align: top;\n",
       "    }\n",
       "\n",
       "    .dataframe thead th {\n",
       "        text-align: right;\n",
       "    }\n",
       "</style>\n",
       "<table border=\"1\" class=\"dataframe\">\n",
       "  <thead>\n",
       "    <tr style=\"text-align: right;\">\n",
       "      <th></th>\n",
       "      <th>id</th>\n",
       "      <th>age</th>\n",
       "      <th>income</th>\n",
       "      <th>home_ownership</th>\n",
       "      <th>employment_length</th>\n",
       "      <th>loan_intent</th>\n",
       "      <th>loan_amount</th>\n",
       "      <th>interest_rate</th>\n",
       "      <th>loan_status</th>\n",
       "      <th>debt_to_income_ratio</th>\n",
       "      <th>has_defaulted</th>\n",
       "      <th>credit_history_length</th>\n",
       "    </tr>\n",
       "  </thead>\n",
       "  <tbody>\n",
       "    <tr>\n",
       "      <th>0</th>\n",
       "      <td>0</td>\n",
       "      <td>22.0</td>\n",
       "      <td>59000</td>\n",
       "      <td>RENT</td>\n",
       "      <td>123.0</td>\n",
       "      <td>PERSONAL</td>\n",
       "      <td>35000</td>\n",
       "      <td>16.02</td>\n",
       "      <td>1</td>\n",
       "      <td>0.59</td>\n",
       "      <td>Y</td>\n",
       "      <td>3</td>\n",
       "    </tr>\n",
       "    <tr>\n",
       "      <th>1</th>\n",
       "      <td>1</td>\n",
       "      <td>21.0</td>\n",
       "      <td>9600</td>\n",
       "      <td>OWN</td>\n",
       "      <td>5.0</td>\n",
       "      <td>EDUCATION</td>\n",
       "      <td>1000</td>\n",
       "      <td>11.14</td>\n",
       "      <td>0</td>\n",
       "      <td>0.10</td>\n",
       "      <td>N</td>\n",
       "      <td>2</td>\n",
       "    </tr>\n",
       "    <tr>\n",
       "      <th>2</th>\n",
       "      <td>2</td>\n",
       "      <td>25.0</td>\n",
       "      <td>9600</td>\n",
       "      <td>MORTGAGE</td>\n",
       "      <td>1.0</td>\n",
       "      <td>MEDICAL</td>\n",
       "      <td>5500</td>\n",
       "      <td>12.87</td>\n",
       "      <td>1</td>\n",
       "      <td>0.57</td>\n",
       "      <td>N</td>\n",
       "      <td>3</td>\n",
       "    </tr>\n",
       "    <tr>\n",
       "      <th>3</th>\n",
       "      <td>3</td>\n",
       "      <td>23.0</td>\n",
       "      <td>65500</td>\n",
       "      <td>RENT</td>\n",
       "      <td>4.0</td>\n",
       "      <td>MEDICAL</td>\n",
       "      <td>35000</td>\n",
       "      <td>15.23</td>\n",
       "      <td>1</td>\n",
       "      <td>0.53</td>\n",
       "      <td>N</td>\n",
       "      <td>2</td>\n",
       "    </tr>\n",
       "    <tr>\n",
       "      <th>4</th>\n",
       "      <td>4</td>\n",
       "      <td>24.0</td>\n",
       "      <td>54400</td>\n",
       "      <td>RENT</td>\n",
       "      <td>8.0</td>\n",
       "      <td>MEDICAL</td>\n",
       "      <td>35000</td>\n",
       "      <td>14.27</td>\n",
       "      <td>1</td>\n",
       "      <td>0.55</td>\n",
       "      <td>Y</td>\n",
       "      <td>4</td>\n",
       "    </tr>\n",
       "    <tr>\n",
       "      <th>...</th>\n",
       "      <td>...</td>\n",
       "      <td>...</td>\n",
       "      <td>...</td>\n",
       "      <td>...</td>\n",
       "      <td>...</td>\n",
       "      <td>...</td>\n",
       "      <td>...</td>\n",
       "      <td>...</td>\n",
       "      <td>...</td>\n",
       "      <td>...</td>\n",
       "      <td>...</td>\n",
       "      <td>...</td>\n",
       "    </tr>\n",
       "    <tr>\n",
       "      <th>645</th>\n",
       "      <td>645</td>\n",
       "      <td>22.0</td>\n",
       "      <td>51012</td>\n",
       "      <td>RENT</td>\n",
       "      <td>1.0</td>\n",
       "      <td>PERSONAL</td>\n",
       "      <td>20000</td>\n",
       "      <td>17.49</td>\n",
       "      <td>1</td>\n",
       "      <td>0.39</td>\n",
       "      <td>Y</td>\n",
       "      <td>4</td>\n",
       "    </tr>\n",
       "    <tr>\n",
       "      <th>646</th>\n",
       "      <td>646</td>\n",
       "      <td>23.0</td>\n",
       "      <td>20004</td>\n",
       "      <td>MORTGAGE</td>\n",
       "      <td>2.0</td>\n",
       "      <td>EDUCATION</td>\n",
       "      <td>2500</td>\n",
       "      <td>16.82</td>\n",
       "      <td>0</td>\n",
       "      <td>0.12</td>\n",
       "      <td>Y</td>\n",
       "      <td>2</td>\n",
       "    </tr>\n",
       "    <tr>\n",
       "      <th>647</th>\n",
       "      <td>647</td>\n",
       "      <td>26.0</td>\n",
       "      <td>20004</td>\n",
       "      <td>MORTGAGE</td>\n",
       "      <td>4.0</td>\n",
       "      <td>HOMEIMPROVEMENT</td>\n",
       "      <td>3600</td>\n",
       "      <td>12.18</td>\n",
       "      <td>0</td>\n",
       "      <td>0.18</td>\n",
       "      <td>N</td>\n",
       "      <td>2</td>\n",
       "    </tr>\n",
       "    <tr>\n",
       "      <th>648</th>\n",
       "      <td>648</td>\n",
       "      <td>22.0</td>\n",
       "      <td>58000</td>\n",
       "      <td>RENT</td>\n",
       "      <td>0.0</td>\n",
       "      <td>DEBTCONSOLIDATION</td>\n",
       "      <td>20000</td>\n",
       "      <td>13.11</td>\n",
       "      <td>1</td>\n",
       "      <td>0.34</td>\n",
       "      <td>N</td>\n",
       "      <td>2</td>\n",
       "    </tr>\n",
       "    <tr>\n",
       "      <th>649</th>\n",
       "      <td>649</td>\n",
       "      <td>23.0</td>\n",
       "      <td>58800</td>\n",
       "      <td>RENT</td>\n",
       "      <td>7.0</td>\n",
       "      <td>DEBTCONSOLIDATION</td>\n",
       "      <td>20000</td>\n",
       "      <td>7.66</td>\n",
       "      <td>1</td>\n",
       "      <td>0.34</td>\n",
       "      <td>N</td>\n",
       "      <td>3</td>\n",
       "    </tr>\n",
       "  </tbody>\n",
       "</table>\n",
       "<p>648 rows × 12 columns</p>\n",
       "</div>"
      ],
      "text/plain": [
       "      id   age  income home_ownership  employment_length        loan_intent  \\\n",
       "0      0  22.0   59000           RENT              123.0           PERSONAL   \n",
       "1      1  21.0    9600            OWN                5.0          EDUCATION   \n",
       "2      2  25.0    9600       MORTGAGE                1.0            MEDICAL   \n",
       "3      3  23.0   65500           RENT                4.0            MEDICAL   \n",
       "4      4  24.0   54400           RENT                8.0            MEDICAL   \n",
       "..   ...   ...     ...            ...                ...                ...   \n",
       "645  645  22.0   51012           RENT                1.0           PERSONAL   \n",
       "646  646  23.0   20004       MORTGAGE                2.0          EDUCATION   \n",
       "647  647  26.0   20004       MORTGAGE                4.0    HOMEIMPROVEMENT   \n",
       "648  648  22.0   58000           RENT                0.0  DEBTCONSOLIDATION   \n",
       "649  649  23.0   58800           RENT                7.0  DEBTCONSOLIDATION   \n",
       "\n",
       "     loan_amount  interest_rate  loan_status  debt_to_income_ratio  \\\n",
       "0          35000          16.02            1                  0.59   \n",
       "1           1000          11.14            0                  0.10   \n",
       "2           5500          12.87            1                  0.57   \n",
       "3          35000          15.23            1                  0.53   \n",
       "4          35000          14.27            1                  0.55   \n",
       "..           ...            ...          ...                   ...   \n",
       "645        20000          17.49            1                  0.39   \n",
       "646         2500          16.82            0                  0.12   \n",
       "647         3600          12.18            0                  0.18   \n",
       "648        20000          13.11            1                  0.34   \n",
       "649        20000           7.66            1                  0.34   \n",
       "\n",
       "    has_defaulted  credit_history_length  \n",
       "0               Y                      3  \n",
       "1               N                      2  \n",
       "2               N                      3  \n",
       "3               N                      2  \n",
       "4               Y                      4  \n",
       "..            ...                    ...  \n",
       "645             Y                      4  \n",
       "646             Y                      2  \n",
       "647             N                      2  \n",
       "648             N                      2  \n",
       "649             N                      3  \n",
       "\n",
       "[648 rows x 12 columns]"
      ]
     },
     "execution_count": 15,
     "metadata": {},
     "output_type": "execute_result"
    }
   ],
   "source": [
    "df"
   ]
  },
  {
   "cell_type": "markdown",
   "metadata": {
    "id": "md9GhfYMlbi7"
   },
   "source": [
    "### 5. Провека типов данных"
   ]
  },
  {
   "cell_type": "code",
   "execution_count": 16,
   "metadata": {
    "id": "lXTroENaluCW"
   },
   "outputs": [
    {
     "data": {
      "text/plain": [
       "id                         int64\n",
       "age                      float64\n",
       "income                     int64\n",
       "home_ownership            object\n",
       "employment_length        float64\n",
       "loan_intent               object\n",
       "loan_amount                int64\n",
       "interest_rate            float64\n",
       "loan_status                int64\n",
       "debt_to_income_ratio     float64\n",
       "has_defaulted             object\n",
       "credit_history_length      int64\n",
       "dtype: object"
      ]
     },
     "execution_count": 16,
     "metadata": {},
     "output_type": "execute_result"
    }
   ],
   "source": [
    "# Изначальные дубликаты\n",
    "df.dtypes"
   ]
  },
  {
   "cell_type": "code",
   "execution_count": 17,
   "metadata": {
    "id": "WXhXgu29lop3"
   },
   "outputs": [
    {
     "name": "stdout",
     "output_type": "stream",
     "text": [
      "id                          int64\n",
      "age                         int64\n",
      "income                      int64\n",
      "home_ownership           category\n",
      "employment_length           int64\n",
      "loan_intent              category\n",
      "loan_amount                 int64\n",
      "interest_rate             float64\n",
      "loan_status                 int64\n",
      "debt_to_income_ratio      float64\n",
      "has_defaulted            category\n",
      "credit_history_length       int64\n",
      "dtype: object\n"
     ]
    }
   ],
   "source": [
    "# Проверьте типы данных, при необходимости измените типы данных, чтобы они соответствовали действительности.\n",
    "\n",
    "# Преобразование категориальных столбцов\n",
    "categorical_columns = ['home_ownership', 'loan_intent', 'has_defaulted']\n",
    "for col in categorical_columns:\n",
    "    df[col] = df[col].astype('category')\n",
    "\n",
    "# Преобразование целочисленных столбцов\n",
    "integer_columns = ['id', 'income', 'loan_amount', 'loan_status', 'credit_history_length']\n",
    "for col in integer_columns:\n",
    "    df[col] = df[col].astype('int64')\n",
    "\n",
    "# Столбец age преобразуем в int64, так как возраст обычно целое число\n",
    "# Предварительно заполним возможные пропуски (если они есть) и округлим\n",
    "df['age'] = df['age'].fillna(0).round().astype('int64')\n",
    "\n",
    "# Столбец employment_length также преобразуем в int64\n",
    "# Заполним пропуски медианным значением и округлим\n",
    "if df['employment_length'].isna().any():\n",
    "    median_emp = df['employment_length'].median()\n",
    "    df['employment_length'] = df['employment_length'].fillna(median_emp)\n",
    "df['employment_length'] = df['employment_length'].round().astype('int64')\n",
    "\n",
    "# Столбцы с дробными значениями оставляем как float64\n",
    "float_columns = ['interest_rate', 'debt_to_income_ratio']\n",
    "for col in float_columns:\n",
    "    df[col] = df[col].astype('float64')\n",
    "\n",
    "# Проверка результирующих типов данных\n",
    "print(df.dtypes)"
   ]
  },
  {
   "cell_type": "markdown",
   "metadata": {
    "id": "DPDBNN4dlx7W"
   },
   "source": [
    "Обоснование выбора типов:\n",
    "id, income, loan_amount, loan_status, credit_history_length - целочисленные значения\n",
    "age и employment_length - целые числа после округления\n",
    "interest_rate и debt_to_income_ratio - дробные значения, требующие точности\n",
    "Категориальные столбцы преобразуются в category для эффективности памяти и работы с алгоритмами ML"
   ]
  },
  {
   "cell_type": "markdown",
   "metadata": {
    "id": "lzr0SgqlnmHy"
   },
   "source": [
    "### 6. Группировка данных"
   ]
  },
  {
   "cell_type": "markdown",
   "metadata": {
    "id": "QG_dbwzfmZoS"
   },
   "source": [
    "#### Задание 1"
   ]
  },
  {
   "cell_type": "code",
   "execution_count": 18,
   "metadata": {
    "id": "tp8Bl1gumYlI"
   },
   "outputs": [
    {
     "name": "stdout",
     "output_type": "stream",
     "text": [
      "       home default  count\n",
      "0  MORTGAGE       N    107\n",
      "1  MORTGAGE       Y     29\n",
      "2       OWN       N     85\n",
      "3       OWN       Y     13\n",
      "4      RENT       N    308\n",
      "5      RENT       Y    106\n"
     ]
    },
    {
     "name": "stderr",
     "output_type": "stream",
     "text": [
      "C:\\Users\\Alexe\\AppData\\Local\\Temp\\ipykernel_11108\\607129829.py:6: FutureWarning: The default of observed=False is deprecated and will be changed to True in a future version of pandas. Pass observed=False to retain current behavior or observed=True to adopt the future default and silence this warning.\n",
      "  grouped_df = df.groupby(['home_ownership', 'has_defaulted']).size().reset_index()\n"
     ]
    }
   ],
   "source": [
    "# выполните группировку согласно варианту\n",
    "# Задание 1 : Группировка - статус домовладения (home) по количеству дефолтов\n",
    "# (default) . Результат должен иметь примерно следующий вид:\n",
    "\n",
    "# Создание DataFrame с мультииндексом как в примере\n",
    "grouped_df = df.groupby(['home_ownership', 'has_defaulted']).size().reset_index()\n",
    "grouped_df.columns = ['home', 'default', 'count']\n",
    "print(grouped_df)"
   ]
  },
  {
   "cell_type": "markdown",
   "metadata": {
    "id": "jLmhNuq0mms3"
   },
   "source": [
    "**`Сделайте вывод - интерпретацию - что можно увидеть из результата данной группировки?`**\n",
    "\n",
    "Анализ распределения дефолтов по типам домовладения выявляет четкие закономерности. Наибольшее количество заемщиков проживает в арендованном жилье (RENT) - 414 человек, причем каждый четвертый арендатор (25,6%) имеет дефолт по кредиту. Собственники жилья (OWN) демонстрируют лучшие показатели - из 98 заемщиков только 13,3% имеют просрочки. Наименьший уровень риска наблюдается у клиентов с ипотекой (MORTGAGE) - всего 21,3% дефолтов, что объясняется более строгим отбором банками таких заемщиков и их финансовой дисциплиной. Полученные данные свидетельствуют, что тип жилья является значимым фактором кредитного риска: арендаторы statistically чаще допускают просрочки, в то время как собственники и ипотечные заемщики проявляют большую надежность."
   ]
  },
  {
   "cell_type": "markdown",
   "metadata": {
    "id": "j0isGCzEne7a"
   },
   "source": [
    "#### Задание 2"
   ]
  },
  {
   "cell_type": "markdown",
   "metadata": {
    "id": "kE2vLBWbne7a"
   },
   "source": [
    "Группировка - цель кредита (intent) по количеству статуса\n",
    "домовладения (home). Создать датафрейм. Переименовать столбец с количеством\n",
    "\n",
    "в “сount”. Отсортировать по убыванию столбца “count”. "
   ]
  },
  {
   "cell_type": "code",
   "execution_count": 19,
   "metadata": {
    "id": "ttn78Zaene7a"
   },
   "outputs": [
    {
     "name": "stderr",
     "output_type": "stream",
     "text": [
      "C:\\Users\\Alexe\\AppData\\Local\\Temp\\ipykernel_11108\\1765193638.py:2: FutureWarning: The default of observed=False is deprecated and will be changed to True in a future version of pandas. Pass observed=False to retain current behavior or observed=True to adopt the future default and silence this warning.\n",
      "  grouped_df = df.groupby(['loan_intent', 'home_ownership'])['Income'].size().reset_index(name='count')\n"
     ]
    },
    {
     "ename": "KeyError",
     "evalue": "'Column not found: Income'",
     "output_type": "error",
     "traceback": [
      "\u001b[31m---------------------------------------------------------------------------\u001b[39m",
      "\u001b[31mKeyError\u001b[39m                                  Traceback (most recent call last)",
      "\u001b[36mCell\u001b[39m\u001b[36m \u001b[39m\u001b[32mIn[19]\u001b[39m\u001b[32m, line 2\u001b[39m\n\u001b[32m      1\u001b[39m \u001b[38;5;66;03m# выполните группировку согласно вари# Группировка по цели кредита и статусу домовладения\u001b[39;00m\n\u001b[32m----> \u001b[39m\u001b[32m2\u001b[39m grouped_df = \u001b[43mdf\u001b[49m\u001b[43m.\u001b[49m\u001b[43mgroupby\u001b[49m\u001b[43m(\u001b[49m\u001b[43m[\u001b[49m\u001b[33;43m'\u001b[39;49m\u001b[33;43mloan_intent\u001b[39;49m\u001b[33;43m'\u001b[39;49m\u001b[43m,\u001b[49m\u001b[43m \u001b[49m\u001b[33;43m'\u001b[39;49m\u001b[33;43mhome_ownership\u001b[39;49m\u001b[33;43m'\u001b[39;49m\u001b[43m]\u001b[49m\u001b[43m)\u001b[49m\u001b[43m[\u001b[49m\u001b[33;43m'\u001b[39;49m\u001b[33;43mIncome\u001b[39;49m\u001b[33;43m'\u001b[39;49m\u001b[43m]\u001b[49m.size().reset_index(name=\u001b[33m'\u001b[39m\u001b[33mcount\u001b[39m\u001b[33m'\u001b[39m)\n\u001b[32m      4\u001b[39m \u001b[38;5;66;03m# Сортировка по убыванию количества\u001b[39;00m\n\u001b[32m      5\u001b[39m grouped_df = grouped_df.sort_values(\u001b[33m'\u001b[39m\u001b[33mcount\u001b[39m\u001b[33m'\u001b[39m, ascending=\u001b[38;5;28;01mFalse\u001b[39;00m)\n",
      "\u001b[36mFile \u001b[39m\u001b[32m~\\AppData\\Local\\Programs\\Python\\Python313\\Lib\\site-packages\\pandas\\core\\groupby\\generic.py:1951\u001b[39m, in \u001b[36mDataFrameGroupBy.__getitem__\u001b[39m\u001b[34m(self, key)\u001b[39m\n\u001b[32m   1944\u001b[39m \u001b[38;5;28;01mif\u001b[39;00m \u001b[38;5;28misinstance\u001b[39m(key, \u001b[38;5;28mtuple\u001b[39m) \u001b[38;5;129;01mand\u001b[39;00m \u001b[38;5;28mlen\u001b[39m(key) > \u001b[32m1\u001b[39m:\n\u001b[32m   1945\u001b[39m     \u001b[38;5;66;03m# if len == 1, then it becomes a SeriesGroupBy and this is actually\u001b[39;00m\n\u001b[32m   1946\u001b[39m     \u001b[38;5;66;03m# valid syntax, so don't raise\u001b[39;00m\n\u001b[32m   1947\u001b[39m     \u001b[38;5;28;01mraise\u001b[39;00m \u001b[38;5;167;01mValueError\u001b[39;00m(\n\u001b[32m   1948\u001b[39m         \u001b[33m\"\u001b[39m\u001b[33mCannot subset columns with a tuple with more than one element. \u001b[39m\u001b[33m\"\u001b[39m\n\u001b[32m   1949\u001b[39m         \u001b[33m\"\u001b[39m\u001b[33mUse a list instead.\u001b[39m\u001b[33m\"\u001b[39m\n\u001b[32m   1950\u001b[39m     )\n\u001b[32m-> \u001b[39m\u001b[32m1951\u001b[39m \u001b[38;5;28;01mreturn\u001b[39;00m \u001b[38;5;28;43msuper\u001b[39;49m\u001b[43m(\u001b[49m\u001b[43m)\u001b[49m\u001b[43m.\u001b[49m\u001b[34;43m__getitem__\u001b[39;49m\u001b[43m(\u001b[49m\u001b[43mkey\u001b[49m\u001b[43m)\u001b[49m\n",
      "\u001b[36mFile \u001b[39m\u001b[32m~\\AppData\\Local\\Programs\\Python\\Python313\\Lib\\site-packages\\pandas\\core\\base.py:245\u001b[39m, in \u001b[36mSelectionMixin.__getitem__\u001b[39m\u001b[34m(self, key)\u001b[39m\n\u001b[32m    243\u001b[39m \u001b[38;5;28;01melse\u001b[39;00m:\n\u001b[32m    244\u001b[39m     \u001b[38;5;28;01mif\u001b[39;00m key \u001b[38;5;129;01mnot\u001b[39;00m \u001b[38;5;129;01min\u001b[39;00m \u001b[38;5;28mself\u001b[39m.obj:\n\u001b[32m--> \u001b[39m\u001b[32m245\u001b[39m         \u001b[38;5;28;01mraise\u001b[39;00m \u001b[38;5;167;01mKeyError\u001b[39;00m(\u001b[33mf\u001b[39m\u001b[33m\"\u001b[39m\u001b[33mColumn not found: \u001b[39m\u001b[38;5;132;01m{\u001b[39;00mkey\u001b[38;5;132;01m}\u001b[39;00m\u001b[33m\"\u001b[39m)\n\u001b[32m    246\u001b[39m     ndim = \u001b[38;5;28mself\u001b[39m.obj[key].ndim\n\u001b[32m    247\u001b[39m     \u001b[38;5;28;01mreturn\u001b[39;00m \u001b[38;5;28mself\u001b[39m._gotitem(key, ndim=ndim)\n",
      "\u001b[31mKeyError\u001b[39m: 'Column not found: Income'"
     ]
    }
   ],
   "source": [
    "# выполните группировку согласно вари# Группировка по цели кредита и статусу домовладения\n",
    "grouped_df = df.groupby(['loan_intent', 'home_ownership'])['Income'].size().reset_index(name='count')\n",
    "\n",
    "# Сортировка по убыванию количества\n",
    "grouped_df = grouped_df.sort_values('count', ascending=False)\n",
    "\n",
    "# Вывод результата\n",
    "print(grouped_df)"
   ]
  },
  {
   "cell_type": "markdown",
   "metadata": {
    "id": "HCyyeAu6ne7a"
   },
   "source": [
    "**`Сделайте вывод - интерпретацию - что можно увидеть из результата данной группировки?`**"
   ]
  },
  {
   "cell_type": "markdown",
   "metadata": {
    "id": "NKLZ0m7Nne7b"
   },
   "source": [
    "Арендаторы составляют большинство заемщиков по всем целям кредита, особенно для образования и объединения долгов. Собственники жилья берут меньше кредитов, в основном на личные нужды и улучшение жилья. Ипотечные заемщики занимают промежуточное положение, чаще инвестируя в образование и бизнес. Тип жилья четко коррелирует с кредитным поведением: арендаторы более активны в заимствованиях, собственники - более консервативны."
   ]
  },
  {
   "cell_type": "markdown",
   "metadata": {
    "id": "_3fHGp64nhUJ"
   },
   "source": [
    "#### Задание 3"
   ]
  },
  {
   "cell_type": "markdown",
   "metadata": {
    "id": "_Bc4ehyKnhUJ"
   },
   "source": [
    ":Сводная таблица (pivot_table) - средний доход income для каждого\n",
    "возраста. Отсортировать по убыванию. Округлить до двух знаков."
   ]
  },
  {
   "cell_type": "code",
   "execution_count": null,
   "metadata": {
    "id": "siDovPvQnhUJ"
   },
   "outputs": [],
   "source": [
    "# Создание сводной таблицы с средним доходом для каждого возраста\n",
    "pivot_table = df.pivot_table(\n",
    "    values='income', \n",
    "    index='age', \n",
    "    aggfunc='mean'\n",
    ")\n",
    "\n",
    "# Округление до двух знаков\n",
    "pivot_table['income'] = pivot_table['income'].round(2)\n",
    "\n",
    "# Сортировка по убыванию среднего дохода\n",
    "pivot_table = pivot_table.sort_values('income', ascending=False)\n",
    "\n",
    "# Вывод результата\n",
    "print(pivot_table)# выполните сводную таблицу согласно варианту"
   ]
  },
  {
   "cell_type": "markdown",
   "metadata": {
    "id": "1-vw8iyUnhUK"
   },
   "source": [
    "Анализ выявил аномалии в данных: возраст 144 и 123 года статистически маловероятен и искажает результаты. Исключая эти выбросы, наблюдается четкая положительная корреляция между возрастом и доходом: с 21 до 26 лет средний доход последовательно растет с 43 тыс. до 124 тыс. Это отражает типичную карьерную динамику - увеличение заработка с приобретением опыта и профессиональным ростом в молодом возрасте.\n"
   ]
  },
  {
   "cell_type": "markdown",
   "metadata": {
    "id": "FOlw74xCniNo"
   },
   "source": [
    "#### Задание 4"
   ]
  },
  {
   "cell_type": "markdown",
   "metadata": {
    "id": "4tvYwT25niNq"
   },
   "source": [
    "Сводная таблица (pivot_table) - средняя сумма кредита amount для\n",
    "каждой цели (intent) - строки и возраста - столбцы . Отсортировать по\n",
    "возрастанию intent. Округлить до двух знаков."
   ]
  },
  {
   "cell_type": "code",
   "execution_count": null,
   "metadata": {
    "id": "TfJ719g6niNq"
   },
   "outputs": [],
   "source": [
    "# выполни# Создание сводной таблицы: средняя сумма кредита для цели (строки) и возраста (столбцы)\n",
    "pivot_table = df.pivot_table(\n",
    "    values='loan_amount',\n",
    "    index='loan_intent',\n",
    "    columns='age',\n",
    "    aggfunc='mean'\n",
    ")\n",
    "\n",
    "# Округление до двух знаков\n",
    "pivot_table = pivot_table.round(2)\n",
    "\n",
    "# Сортировка по возрастанию цели кредита\n",
    "pivot_table = pivot_table.sort_index(ascending=True)\n",
    "\n",
    "# Вывод результата\n",
    "print(pivot_table)"
   ]
  },
  {
   "cell_type": "markdown",
   "metadata": {
    "id": "yqJqvk5qniNr"
   },
   "source": [
    "**`Сделайте вывод - интерпретацию - что можно увидеть из результата выполнения данного кода?`**"
   ]
  },
  {
   "cell_type": "markdown",
   "metadata": {
    "id": "tIkuqJKUniNs"
   },
   "source": [
    "Анализ показывает, что средняя сумма кредита увеличивается с возрастом заемщиков для большинства целей. Наибольшие суммы кредитов наблюдаются в возрастной группе 23-24 года, особенно для целей \"PERSONAL\" (22,8 тыс.) и \"MEDICAL\" (21,3 тыс.).\n",
    "\n",
    "Цель \"EDUCATION\" демонстрирует аномально низкие значения в возрасте 21 год (4,4 тыс.) и 26 лет (2,1 тыс.), что может указывать на выбросы или ошибки в данных. Цели \"DEBTCONSOLIDATION\" и \"HOMEIMPROVEMENT\" показывают стабильный рост суммы кредита с возрастом, что отражает увеличение кредитоспособности и финансовых потребностей заемщиков.\n",
    "\n",
    "В целом наблюдается тенденция: более взрослые заемщики получают larger кредиты, что коррелирует с их возросшими доходами и финансовыми возможностями."
   ]
  },
  {
   "cell_type": "markdown",
   "metadata": {
    "id": "TpnXb6gip3S8"
   },
   "source": [
    "### Вывод"
   ]
  },
  {
   "cell_type": "markdown",
   "metadata": {
    "id": "nqLa096jM1Z8"
   },
   "source": [
    "\n",
    "***`Сделать расширенный вывод. `***\n",
    "\n",
    "В ходе исследования был проанализирован набор данных о кредитных заявках, содержащий информацию о заёмщиках и параметрах кредитов. Была проведена предобработка данных: исправлены неявные дубликаты в категориальных полях (типы домовладения и истории дефолтов), преобразованы типы данных для оптимизации работы с признаками.\n",
    "Анализ группировок выявил существенную зависимость между типом домовладения и кредитным поведением: арендаторы составляют большинство заёмщиков (72%) и демонстрируют более высокий уровень дефолтов (25,6%) по сравнению с владельцами жилья (13,3%). Наиболее популярными целями кредитования у арендаторов являются образование и рефинансирование долгов.\n",
    "Сводные таблицы показали положительную корреля\n",
    "цию между возрастом и доходом заёмщиков, а также возрастные patterns в размерах кредитов: максимальные суммы кредитов наблюдаются в возрастной группе 23-24 года. Обнаружены аномальные значения возрастов (123 и 144 года), которые были исключены из анализа как статистические выбросы.\n",
    "Результаты исследования подтверждают значимое влияние социально-демографических характеристик на кредитное поведение и могут быть использованы для построения прогнозных моделей оценки кредитных рисков."
   ]
  },
  {
   "cell_type": "markdown",
   "metadata": {
    "id": "Sn3y7og_vjGG"
   },
   "source": [
    "### Дополнительное задание"
   ]
  },
  {
   "cell_type": "markdown",
   "metadata": {
    "id": "rR6WgHXYvlqD"
   },
   "source": [
    "# Задание 4\n",
    "Создать столбец “Категория дохода (Income)” (с помощью категоризации).\n",
    "Выделить минимум 3 категории (низкий, высокий, средний), фильтрацию для\n",
    "уровня дохода выбрать самостоятельно, аргументировать выбор. Создать\n",
    "группировку: средняя, минимальная, максимальная, медианная сумма кредита\n",
    "(amount) по категории дохода.\n"
   ]
  },
  {
   "cell_type": "code",
   "execution_count": 21,
   "metadata": {
    "id": "wG5TGQpevlBq"
   },
   "outputs": [
    {
     "name": "stdout",
     "output_type": "stream",
     "text": [
      "25-й процентиль (низкий доход): 44723.00\n",
      "75-й процентиль (высокий доход): 129997.00\n",
      "\n",
      "Распределение по категориям дохода:\n",
      "income_category\n",
      "средний    324\n",
      "низкий     162\n",
      "высокий    162\n",
      "Name: count, dtype: int64\n",
      "\n",
      "Статистики суммы кредита по категориям дохода:\n",
      "                 мин_сумма  макс_сумма  средняя_сумма  медианная_сумма\n",
      "income_category                                                       \n",
      "высокий               1000       35000       19146.60          20000.0\n",
      "низкий                1000       25000        7506.02           4487.5\n",
      "средний              10000       35000       24348.84          24250.0\n"
     ]
    }
   ],
   "source": [
    "# Определяем границы для категоризации дохода с помощью квартилей\n",
    "# 25-й процентиль разделяет нижние 25% доходов, 75-й процентиль - верхние 25%\n",
    "low_threshold = df['income'].quantile(0.25)\n",
    "medium_threshold = df['income'].quantile(0.75)\n",
    "\n",
    "print(f\"25-й процентиль (низкий доход): {low_threshold:.2f}\")\n",
    "print(f\"75-й процентиль (высокий доход): {medium_threshold:.2f}\")\n",
    "\n",
    "# Создаем функцию для классификации доходов на три категории\n",
    "# Критерии: до 25-го процентиля - низкий, от 25-го до 75-го - средний, выше 75-го - высокий\n",
    "def categorize_income(income):\n",
    "    if income <= low_threshold:\n",
    "        return 'низкий'\n",
    "    elif income <= medium_threshold:\n",
    "        return 'средний'\n",
    "    else:\n",
    "        return 'высокий'\n",
    "\n",
    "# Добавляем новый столбец с категориями дохода, применяя функцию к каждому ряду\n",
    "# Метод apply позволяет последовательно обработать все значения в столбце income\n",
    "df['income_category'] = df['income'].apply(categorize_income)\n",
    "\n",
    "# Анализируем распределение заемщиков по категориям дохода\n",
    "# value_counts() показывает количество наблюдений в каждой категории\n",
    "print(\"\\nРаспределение по категориям дохода:\")\n",
    "print(df['income_category'].value_counts())\n",
    "\n",
    "# Группируем данные по категориям дохода и вычисляем описательные статистики\n",
    "# agg() позволяет применить несколько агрегирующих функций одновременно\n",
    "income_stats = df.groupby('income_category')['loan_amount'].agg([\n",
    "    ('мин_сумма', 'min'),        # Минимальная сумма кредита\n",
    "    ('макс_сумма', 'max'),       # Максимальная сумма кредита  \n",
    "    ('средняя_сумма', 'mean'),   # Среднее арифметическое\n",
    "    ('медианная_сумма', 'median') # Медиана - устойчивая к выбросам мера центра\n",
    "]).round(2)\n",
    "\n",
    "# Выводим итоговую таблицу со статистиками кредитования по доходным группам\n",
    "# Таблица позволяет сравнивать кредитное поведение разных категорий заемщиков\n",
    "print(\"\\nСтатистики суммы кредита по категориям дохода:\")\n",
    "print(income_stats)"
   ]
  },
  {
   "cell_type": "markdown",
   "metadata": {
    "id": "y-qpTuhTvon3"
   },
   "source": [
    "Для категоризации уровня дохода заемщиков были выбраны границы на основе квартилей распределения: 25-й процентиль для разделения низкого дохода и 75-й процентиль для выделения высокого дохода. Такой подход обеспечивает статистически обоснованное разделение данных на три приблизительно равные группы, где низкий доход представляет нижние 25% значений, средний доход - центральные 50%, а высокий доход - верхние 25% значений распределения.\n",
    "\n",
    "Данный метод категоризации минимизирует влияние выбросов и аномальных значений, поскольку квартили менее чувствительны к экстремальным значениям по сравнению с абсолютными порогами. Кроме того, этот подход соответствует общепринятой практике анализа доходов населения и позволяет учесть реальное распределение доходов в конкретном наборе данных, обеспечивая репрезентативность каждой категории и возможность корректного сравнения финансового поведения заемщиков из разных доходных групп.\n",
    "\n",
    "Заемщики со средним доходом (44-130 тыс.) проявляют наибольшую кредитную активность, получая самые крупные кредиты (средняя сумма 24,3 тыс.). Парадоксально, что высокодоходная группа (130+ тыс.) берет меньшие кредиты (19,1 тыс.), вероятно из-за меньшей потребности в заемных средствах. Низкодоходные заемщики (до 44 тыс.) существенно ограничены в кредитовании (средняя сумма 7,5 тыс.), что отражает более жесткие лимиты для этой категории. Все группы имеют доступ к минимальным кредитам (1 тыс.), но максимальные суммы (35 тыс.) доступны только среднему и высокому классу."
   ]
  },
  {
   "cell_type": "markdown",
   "metadata": {},
   "source": [
    "# Задание 9\n",
    "Создать столбец “Категория суммы кредита” - Amount (с помощью\n",
    "категоризации). Выделить минимум 3 категории (маленькая, крупная, средняя),\n",
    "фильтрацию для уровня суммы выбрать самостоятельно, аргументировать\n",
    "выбор. Создать группировку: средняя, минимальная, максимальная,\n",
    "медианная сумма кредита (amount) по цели кредита.\n"
   ]
  },
  {
   "cell_type": "code",
   "execution_count": 22,
   "metadata": {},
   "outputs": [
    {
     "name": "stdout",
     "output_type": "stream",
     "text": [
      "25-й процентиль (маленький кредит): 11425.00\n",
      "75-й процентиль (крупный кредит): 25000.00\n",
      "\n",
      "Распределение по категориям суммы кредита:\n",
      "loan_amount_category\n",
      "средняя      416\n",
      "маленькая    162\n",
      "крупная       70\n",
      "Name: count, dtype: int64\n",
      "\n",
      "Статистики суммы кредита по цели кредита:\n",
      "                   мин_сумма  макс_сумма  средняя_сумма  медианная_сумма\n",
      "loan_intent                                                             \n",
      "DEBTCONSOLIDATION       2275       35000       19578.19          23050.0\n",
      "EDUCATION               1000       35000       19264.76          21475.0\n",
      "HOMEIMPROVEMENT         1400       33000       17884.56          21250.0\n",
      "MEDICAL                 1200       35000       18732.24          21250.0\n",
      "PERSONAL                1400       35000       19458.41          24000.0\n",
      "VENTURE                 1000       35000       17732.69          20000.0\n"
     ]
    },
    {
     "name": "stderr",
     "output_type": "stream",
     "text": [
      "C:\\Users\\Alexe\\AppData\\Local\\Temp\\ipykernel_11108\\585262362.py:30: FutureWarning: The default of observed=False is deprecated and will be changed to True in a future version of pandas. Pass observed=False to retain current behavior or observed=True to adopt the future default and silence this warning.\n",
      "  loan_intent_stats = df.groupby('loan_intent')['loan_amount'].agg([\n"
     ]
    }
   ],
   "source": [
    "# Определяем границы категорий суммы кредита с использованием квартилей\n",
    "# 25-й процентиль разделяет маленькие кредиты, 75-й процентиль - крупные\n",
    "low_amount = df['loan_amount'].quantile(0.25)\n",
    "medium_amount = df['loan_amount'].quantile(0.75)\n",
    "\n",
    "print(f\"25-й процентиль (маленький кредит): {low_amount:.2f}\")\n",
    "print(f\"75-й процентиль (крупный кредит): {medium_amount:.2f}\")\n",
    "\n",
    "# Создаем функцию для классификации сумм кредита на три категории\n",
    "# Критерии: до 25-го процентиля - маленькая, от 25-го до 75-го - средняя, выше 75-го - крупная\n",
    "def categorize_loan_amount(amount):\n",
    "    if amount <= low_amount:\n",
    "        return 'маленькая'\n",
    "    elif amount <= medium_amount:\n",
    "        return 'средняя'\n",
    "    else:\n",
    "        return 'крупная'\n",
    "\n",
    "# Добавляем новый столбец с категориями суммы кредита\n",
    "# Функция apply последовательно обрабатывает каждое значение в столбце loan_amount\n",
    "df['loan_amount_category'] = df['loan_amount'].apply(categorize_loan_amount)\n",
    "\n",
    "# Анализируем распределение кредитов по категориям размера\n",
    "# value_counts() показывает частоту каждой категории в данных\n",
    "print(\"\\nРаспределение по категориям суммы кредита:\")\n",
    "print(df['loan_amount_category'].value_counts())\n",
    "\n",
    "# Группируем данные по цели кредита и вычисляем статистики по суммам\n",
    "# Анализируем как разные цели кредита связаны с размером кредита\n",
    "loan_intent_stats = df.groupby('loan_intent')['loan_amount'].agg([\n",
    "    ('мин_сумма', 'min'),        # Минимальная сумма по цели\n",
    "    ('макс_сумма', 'max'),       # Максимальная сумма по цели\n",
    "    ('средняя_сумма', 'mean'),   # Средняя сумма по цели\n",
    "    ('медианная_сумма', 'median') # Медианная сумма (устойчива к выбросам)\n",
    "]).round(2)\n",
    "\n",
    "# Выводим итоговую таблицу сравнения кредитов по целям\n",
    "# Позволяет выявить различия в кредитовании для разных целей\n",
    "print(\"\\nСтатистики суммы кредита по цели кредита:\")\n",
    "print(loan_intent_stats)"
   ]
  },
  {
   "cell_type": "markdown",
   "metadata": {},
   "source": [
    "Крупные кредиты (>25 тыс.) составляют лишь 70 заявок. Наибольшие средние суммы у целей:\n",
    "\n",
    "Консолидация долгов (19.6 тыс.)\n",
    "\n",
    "Личные нужды (19.5 тыс.)\n",
    "\n",
    "Наименьшие суммы у бизнес-инициатив (17.7 тыс.) и улучшения жилья (17.9 тыс.). Все категории показывают стандартизированный диапазон кредитования (20-24 тыс. медианные значения), что свидетельствует о унифицированном подходе к кредитованию вне зависимости от цели."
   ]
  },
  {
   "cell_type": "markdown",
   "metadata": {},
   "source": [
    "# Задание 24\n",
    "Отфильтровать набор данных. Выбрать только записи, где ставка Rate лежит в\n",
    "определенном диапазоне (диапазон выбрать самостоятельно, чтобы в выборку\n",
    "попало достаточно количество записей) + топ 2 цели кредита по среднему\n",
    "доходу + статус землевладения с наименьшим количеством записей. Создать\n",
    "сводные таблицы: цель кредита, статус домовладения - медианный, средний,\n",
    "максимальный amount.\n"
   ]
  },
  {
   "cell_type": "code",
   "execution_count": null,
   "metadata": {},
   "outputs": [],
   "source": [
    "# Определяем диапазон процентных ставок, исключая крайние значения\n",
    "# Используем 10-й и 90-й процентили чтобы отсечь выбросы и сохранить основную массу данных\n",
    "lower_bound = df['interest_rate'].quantile(0.10)\n",
    "upper_bound = df['interest_rate'].quantile(0.90)\n",
    "\n",
    "print(f\"Выбранный диапазон ставок: от {lower_bound:.2f} до {upper_bound:.2f}\")\n",
    "\n",
    "# Фильтруем исходный датафрейм, оставляя только записи с процентными ставками в заданном диапазоне\n",
    "# Это позволяет анализировать наиболее типичные случаи без влияния экстремальных значений\n",
    "filtered_df = df[(df['interest_rate'] >= lower_bound) & (df['interest_rate'] <= upper_bound)]\n",
    "\n",
    "# Определяем топ-2 цели кредита по среднему доходу заемщиков\n",
    "# Группируем по цели кредита, вычисляем средний доход и выбираем два наибольших значения\n",
    "top_intents = filtered_df.groupby('loan_intent')['income'].mean().nlargest(2).index.tolist()\n",
    "print(f\"Топ-2 цели кредита по среднему доходу: {top_intents}\")\n",
    "\n",
    "# Находим категорию домовладения с наименьшим количеством наблюдений\n",
    "# Анализируем распределение статусов домовладения и выбираем самый редкий\n",
    "min_ownership = filtered_df['home_ownership'].value_counts().idxmin()\n",
    "print(f\"Статус домовладения с наименьшим количеством записей: {min_ownership}\")\n",
    "\n",
    "# Применяем дополнительную фильтрацию по найденным критериям\n",
    "# Оставляем только записи с топ-2 целями кредита и наименьшим статусом домовладения\n",
    "final_df = filtered_df[\n",
    "    (filtered_df['loan_intent'].isin(top_intents)) & \n",
    "    (filtered_df['home_ownership'] == min_ownership)\n",
    "]\n",
    "\n",
    "# Создаем сводную таблицу для анализа суммы кредита по целям и статусу домовладения\n",
    "# Используем несколько агрегирующих функций для комплексного анализа\n",
    "pivot_table = final_df.pivot_table(\n",
    "    values='loan_amount',        # Анализируемый показатель - сумма кредита\n",
    "    index='loan_intent',         # Группировка по цели кредита (строки)\n",
    "    columns='home_ownership',    # Группировка по статусу домовладения (столбцы)\n",
    "    aggfunc=['median', 'mean', 'max'],  # Статистики: медиана, среднее, максимум\n",
    "    fill_value=0                 # Заполняем нулями отсутствующие комбинации\n",
    ").round(2)\n",
    "\n",
    "print(\"\\nСводная таблица:\")\n",
    "print(pivot_table)"
   ]
  },
  {
   "cell_type": "markdown",
   "metadata": {},
   "source": [
    "Для анализа выбран диапазон ставок 7.88-16.32% (10-90% процентили), исключающий экстремальные значения и сохраняющий репрезентативность данных. Топ-2 цели кредита по доходу - EDUCATION и VENTURE - свидетельствуют о наиболее платёжеспособных заёмщиках. Статус домовладения OWN оказался наименее распространённым.\n",
    "\n",
    "Результаты показывают:\n",
    "\n",
    "Образовательные кредиты имеют высокую среднюю сумму (7160) и максимальный разброс (медиана 3875 vs максимум 21000)\n",
    "\n",
    "Бизнес-кредиты демонстрируют большую стабильность (медиана 4437.5, максимум 15000)\n",
    "\n",
    "Существенная разница между медианой и средней суммой образовательных кредитов указывает на правостороннее смещение распределения\n",
    "\n",
    "Данные отражают дифференцированный подход к кредитованию в зависимости от цели займа и статуса домовладения."
   ]
  },
  {
   "cell_type": "code",
   "execution_count": null,
   "metadata": {},
   "outputs": [],
   "source": []
  }
 ],
 "metadata": {
  "colab": {
   "provenance": []
  },
  "kernelspec": {
   "display_name": "Python 3 (ipykernel)",
   "language": "python",
   "name": "python3"
  },
  "language_info": {
   "codemirror_mode": {
    "name": "ipython",
    "version": 3
   },
   "file_extension": ".py",
   "mimetype": "text/x-python",
   "name": "python",
   "nbconvert_exporter": "python",
   "pygments_lexer": "ipython3",
   "version": "3.13.3"
  }
 },
 "nbformat": 4,
 "nbformat_minor": 4
}
